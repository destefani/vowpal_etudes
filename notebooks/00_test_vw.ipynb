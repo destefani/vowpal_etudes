{
 "cells": [
  {
   "cell_type": "code",
   "execution_count": 6,
   "metadata": {},
   "outputs": [
    {
     "name": "stderr",
     "output_type": "stream",
     "text": [
      "using no cache\n",
      "Reading datafile = none\n",
      "num sources = 0\n",
      "Num weight bits = 18\n",
      "learning rate = 0.5\n",
      "initial_t = 0\n",
      "power_t = 0.5\n",
      "Enabled learners: gd, scorer-identity, count_label\n",
      "Input label = SIMPLE\n",
      "Output pred = SCALAR\n",
      "average  since         example        example        current        current  current\n",
      "loss     last          counter         weight          label        predict features\n",
      "0.693147 0.693147            1            1.0        -1.0000         0.0000       11\n",
      "0.510282 0.327417            2            2.0         1.0000         0.9483       11\n",
      "0.542563 0.574844            4            4.0         1.0000        -0.4656       11\n",
      "0.586876 0.631189            8            8.0        -1.0000        -0.2376       11\n",
      "0.649469 0.712062           16           16.0        -1.0000        -0.5319       11\n",
      "0.691177 0.732884           32           32.0         1.0000         1.1631       11\n",
      "0.719299 0.747421           64           64.0         1.0000        -0.3354       11\n",
      "0.713348 0.707397          128          128.0        -1.0000        -0.1225       11\n",
      "0.697719 0.682090          256          256.0        -1.0000         0.3942       11\n",
      "0.693317 0.688915          512          512.0         1.0000        -0.2585       11\n",
      "0.696022 0.698727         1024         1024.0         1.0000         0.2245       11\n",
      "0.697207 0.698391         2048         2048.0        -1.0000         0.0029       11\n",
      "0.697198 0.697189         4096         4096.0        -1.0000         0.1953       11\n",
      "0.696540 0.695882         8192         8192.0         1.0000         0.0692       11\n",
      "0.698903 0.701267        16384        16384.0         1.0000        -0.1088       11\n"
     ]
    },
    {
     "data": {
      "text/plain": [
       "0.511"
      ]
     },
     "execution_count": 6,
     "metadata": {},
     "output_type": "execute_result"
    }
   ],
   "source": [
    "import numpy as np\n",
    "from sklearn import datasets\n",
    "from sklearn.model_selection import train_test_split\n",
    "from vowpalwabbit.sklearn import VWClassifier\n",
    "    # generate some data\n",
    "X, y = datasets.make_hastie_10_2(n_samples=10000, random_state=1)\n",
    "X = X.astype(np.float32)\n",
    "    # split train and test set\n",
    "X_train, X_test, y_train, y_test = train_test_split(X, y, test_size=0.2, random_state=256)\n",
    "    # build model\n",
    "model = VWClassifier(\n",
    "    loss_function='logistic',\n",
    "    quiet=False\n",
    ")\n",
    "    # train model (in-memory\n",
    "model.fit(X_train, y_train)\n",
    "    # predict model\n",
    "y_pred = model.predict(X_test)\n",
    "    # evaluate model\n",
    "model.score(X_train, y_train)\n",
    "model.score(X_test, y_test)"
   ]
  },
  {
   "cell_type": "code",
   "execution_count": null,
   "metadata": {},
   "outputs": [],
   "source": []
  }
 ],
 "metadata": {
  "kernelspec": {
   "display_name": "vowpal_etudes",
   "language": "python",
   "name": "python3"
  },
  "language_info": {
   "codemirror_mode": {
    "name": "ipython",
    "version": 3
   },
   "file_extension": ".py",
   "mimetype": "text/x-python",
   "name": "python",
   "nbconvert_exporter": "python",
   "pygments_lexer": "ipython3",
   "version": "3.9.18"
  }
 },
 "nbformat": 4,
 "nbformat_minor": 2
}
